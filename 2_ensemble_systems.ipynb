{
 "cells": [
  {
   "cell_type": "code",
   "execution_count": 1,
   "metadata": {},
   "outputs": [],
   "source": [
    "%matplotlib inline\n",
    "import pandas as pd\n",
    "import matplotlib.pyplot as plt\n",
    "import numpy as np\n",
    "\n",
    "from sklearn.linear_model import LogisticRegression\n",
    "from sklearn.preprocessing import StandardScaler\n",
    "from sklearn.pipeline import Pipeline\n",
    "from sklearn.neighbors import KNeighborsClassifier\n",
    "from sklearn.model_selection import GridSearchCV\n",
    "from sklearn.svm import SVC\n",
    "from sklearn.metrics import precision_score, recall_score, accuracy_score, ConfusionMatrixDisplay, f1_score\n",
    "from sklearn.model_selection import train_test_split\n",
    "from sklearn.tree import DecisionTreeClassifier\n",
    "from sklearn.ensemble import RandomForestClassifier, VotingClassifier, BaggingClassifier, AdaBoostClassifier, GradientBoostingClassifier\n",
    "random_state = 42\n",
    "\n",
    "import warnings\n",
    "warnings.filterwarnings('ignore')\n",
    "\n",
    "pd.set_option('display.max_columns', None)  # Show all columns\n",
    "pd.set_option('display.max_rows', 100)\n",
    "pd.set_option('display.expand_frame_repr', False)  # Don't wrap lines\n",
    "pd.set_option('display.precision', 4)  # Set decimal precision"
   ]
  },
  {
   "cell_type": "markdown",
   "metadata": {},
   "source": [
    "<center>\n",
    "<i>Amortized Loan Formula</i>\n",
    "</center>\n",
    "\n",
    "$$A = P\\frac{\\textit{i}(1 + \\textit{i})^\\textit{n}}{(1 + \\textit{i})^\\textit{n} - 1}$$\n"
   ]
  },
  {
   "cell_type": "code",
   "execution_count": 3,
   "metadata": {},
   "outputs": [],
   "source": [
    "def calc_payment(principal: float, interest: float, term: int) -> float:\n",
    "    \"\"\"\n",
    "    Calculate the monthly payment for a loan using the formula above:\n",
    "\n",
    "    Args:\n",
    "        principal (float): The principal amount of the loan\n",
    "        interest (float): The monthly interest rate\n",
    "        term (int): The term of the loan in months\n",
    "\n",
    "    Returns:\n",
    "        float: The monthly payment for the loan\n",
    "    \"\"\"\n",
    "    return principal * (interest * (1 + interest) ** term) / ((1 + interest) ** term - 1)\n",
    "\n",
    "def clean_df(df: pd.DataFrame, drop_na=False) -> pd.DataFrame:\n",
    "    \"\"\"\n",
    "    Clean and preprocess the auto loan application dataframe by removing unnecessary columns\n",
    "    and standardizing status values.\n",
    "\n",
    "    Args:\n",
    "        df (pd.DataFrame): Input dataframe containing raw auto loan application data\n",
    "        drop_na (bool, optional): Whether to drop rows with NA values. Defaults to False.\n",
    "\n",
    "    Returns:\n",
    "        pd.DataFrame: Cleaned dataframe with:\n",
    "            - Removed columns that are not needed for analysis (e.g. dealer info, payment details)\n",
    "            - Standardized status values to 'Denial' or 'Approved'\n",
    "            - Empty strings for null tags\n",
    "    \"\"\"\n",
    "    dfa = df.drop(columns=[\n",
    "        'id', \n",
    "        'app_type',\n",
    "        'debt_monthly_payment',\n",
    "        'debt_monthly_payment_w_payment', \n",
    "        'dti_monthly',\n",
    "        'dti_monthly_w_payment',\n",
    "        'vanatage_score',\n",
    "        'ltv_wholesale_avg',\n",
    "        'ltv_retail_avg',\n",
    "        'ltv_retail_clean',\n",
    "        'wholesale_clean',\n",
    "        'wholesale_avg',\n",
    "        'retail_clean',\n",
    "        'retail_avg',\n",
    "        'dealer_cifno', \n",
    "        'dealer_company',\n",
    "        'denial_reasons',\n",
    "        'dealer_state',\n",
    "        'denial_other',\n",
    "        'pending_reasons',\n",
    "        'pending_reasons',\n",
    "        'pending_other',\n",
    "        'is_closed',\n",
    "        'close_reason',\n",
    "        'close_note',\n",
    "        'lender_percent',\n",
    "        'lender_fee',\n",
    "        'aq_fee',\n",
    "        'est_payment',\n",
    "        'no_credit',\n",
    "        'decision_back_and_forth',\n",
    "        'term',\n",
    "        'apr',\n",
    "        'pti_monthly',\n",
    "        'has_cobuyer',\n",
    "        'decisioned_by',\n",
    "        'credit_inquiries',\n",
    "        'credit_ssn_match', \n",
    "        'cash_down', \n",
    "        'amount_approved',\n",
    "        'credit_dpd_30_last_12_percent',\n",
    "        'credit_dpd_60_last_12_percent',\n",
    "        'credit_dpd_90_last_12_percent',\n",
    "        'credit_dpd_120_last_12_percent',\n",
    "        'credit_dpd_30_last_24_percent',\n",
    "        'credit_dpd_60_last_24_percent',\n",
    "        'credit_dpd_90_last_24_percent',\n",
    "        'credit_dpd_120_last_24_percent',\n",
    "        'tag',\n",
    "    ])\n",
    "    dfa['status'] = dfa['status'].apply(lambda x: 'Denial' if x == 'Denial' else 'Approved')\n",
    "    if drop_na:\n",
    "        dfa = dfa.dropna(axis=0)\n",
    "    return dfa"
   ]
  },
  {
   "cell_type": "markdown",
   "metadata": {},
   "source": [
    "### Drop NA\n",
    "null/na values are a very small portion of the data so we will drop them."
   ]
  },
  {
   "cell_type": "code",
   "execution_count": 4,
   "metadata": {},
   "outputs": [],
   "source": [
    "df = clean_df(pd.read_csv('data/applications.csv'), drop_na=True)"
   ]
  },
  {
   "cell_type": "code",
   "execution_count": 9,
   "metadata": {},
   "outputs": [
    {
     "data": {
      "text/html": [
       "<div>\n",
       "<style scoped>\n",
       "    .dataframe tbody tr th:only-of-type {\n",
       "        vertical-align: middle;\n",
       "    }\n",
       "\n",
       "    .dataframe tbody tr th {\n",
       "        vertical-align: top;\n",
       "    }\n",
       "\n",
       "    .dataframe thead th {\n",
       "        text-align: right;\n",
       "    }\n",
       "</style>\n",
       "<table border=\"1\" class=\"dataframe\">\n",
       "  <thead>\n",
       "    <tr style=\"text-align: right;\">\n",
       "      <th></th>\n",
       "      <th>monthly_income</th>\n",
       "      <th>job_time_months</th>\n",
       "      <th>res_time_months</th>\n",
       "      <th>ltv_wholesale_clean</th>\n",
       "      <th>credit_chargeoffs</th>\n",
       "      <th>credit_child_supports</th>\n",
       "      <th>credit_wage_earners</th>\n",
       "      <th>credit_bankruptcies</th>\n",
       "      <th>credit_repos</th>\n",
       "      <th>credit_foreclosures</th>\n",
       "      <th>credit_collections</th>\n",
       "      <th>credit_line_suspended</th>\n",
       "      <th>credit_past_due</th>\n",
       "      <th>credit_past_due_bankruptcy</th>\n",
       "      <th>credit_past_due_medical</th>\n",
       "      <th>credit_past_due_auto</th>\n",
       "      <th>credit_past_due_mortgage</th>\n",
       "      <th>credit_current_balance</th>\n",
       "      <th>credit_monthly_payment</th>\n",
       "      <th>credit_months_since_repo</th>\n",
       "      <th>credit_months_since_bankruptcy</th>\n",
       "      <th>credit_months_since_foreclosure</th>\n",
       "      <th>credit_months_since_chargeoff</th>\n",
       "      <th>credit_age_months</th>\n",
       "      <th>credit_dpd_30</th>\n",
       "      <th>credit_dpd_60</th>\n",
       "      <th>credit_dpd_90</th>\n",
       "      <th>credit_dpd_120</th>\n",
       "    </tr>\n",
       "  </thead>\n",
       "  <tbody>\n",
       "    <tr>\n",
       "      <th>count</th>\n",
       "      <td>45266.000</td>\n",
       "      <td>45266.0000</td>\n",
       "      <td>45266.0000</td>\n",
       "      <td>45266.0000</td>\n",
       "      <td>45266.0000</td>\n",
       "      <td>45266.0000</td>\n",
       "      <td>45266.0000</td>\n",
       "      <td>45266.0000</td>\n",
       "      <td>45266.0000</td>\n",
       "      <td>45266.0000</td>\n",
       "      <td>45266.0000</td>\n",
       "      <td>45266.0000</td>\n",
       "      <td>45266.0000</td>\n",
       "      <td>45266.0</td>\n",
       "      <td>45266.0000</td>\n",
       "      <td>45266.0000</td>\n",
       "      <td>45266.0000</td>\n",
       "      <td>4.5266e+04</td>\n",
       "      <td>45266.0000</td>\n",
       "      <td>45266.0000</td>\n",
       "      <td>45266.0000</td>\n",
       "      <td>45266.0000</td>\n",
       "      <td>45266.0000</td>\n",
       "      <td>45266.0000</td>\n",
       "      <td>45266.0000</td>\n",
       "      <td>45266.0000</td>\n",
       "      <td>45266.0000</td>\n",
       "      <td>45266.0000</td>\n",
       "    </tr>\n",
       "    <tr>\n",
       "      <th>mean</th>\n",
       "      <td>3897.950</td>\n",
       "      <td>40.7921</td>\n",
       "      <td>62.1653</td>\n",
       "      <td>154.2562</td>\n",
       "      <td>2.0877</td>\n",
       "      <td>0.0196</td>\n",
       "      <td>0.0146</td>\n",
       "      <td>-0.7835</td>\n",
       "      <td>0.1542</td>\n",
       "      <td>0.0011</td>\n",
       "      <td>0.7532</td>\n",
       "      <td>0.0077</td>\n",
       "      <td>2314.9076</td>\n",
       "      <td>-1.0</td>\n",
       "      <td>-1.0000</td>\n",
       "      <td>1289.9912</td>\n",
       "      <td>17.5875</td>\n",
       "      <td>1.9511e+04</td>\n",
       "      <td>328.8756</td>\n",
       "      <td>1.9545</td>\n",
       "      <td>2.3619</td>\n",
       "      <td>-0.9610</td>\n",
       "      <td>18.7085</td>\n",
       "      <td>174.4553</td>\n",
       "      <td>0.1420</td>\n",
       "      <td>0.1086</td>\n",
       "      <td>0.0702</td>\n",
       "      <td>0.2241</td>\n",
       "    </tr>\n",
       "    <tr>\n",
       "      <th>std</th>\n",
       "      <td>4269.084</td>\n",
       "      <td>55.6832</td>\n",
       "      <td>75.5894</td>\n",
       "      <td>141.6794</td>\n",
       "      <td>3.0119</td>\n",
       "      <td>0.1588</td>\n",
       "      <td>0.2885</td>\n",
       "      <td>1.1725</td>\n",
       "      <td>0.5655</td>\n",
       "      <td>0.0352</td>\n",
       "      <td>0.6760</td>\n",
       "      <td>0.0872</td>\n",
       "      <td>4376.9261</td>\n",
       "      <td>0.0</td>\n",
       "      <td>0.0066</td>\n",
       "      <td>3497.3278</td>\n",
       "      <td>345.0245</td>\n",
       "      <td>4.7919e+04</td>\n",
       "      <td>607.1431</td>\n",
       "      <td>12.7303</td>\n",
       "      <td>15.9758</td>\n",
       "      <td>1.4442</td>\n",
       "      <td>24.2192</td>\n",
       "      <td>122.3935</td>\n",
       "      <td>0.4497</td>\n",
       "      <td>0.3835</td>\n",
       "      <td>0.3313</td>\n",
       "      <td>0.9440</td>\n",
       "    </tr>\n",
       "    <tr>\n",
       "      <th>min</th>\n",
       "      <td>0.000</td>\n",
       "      <td>0.0000</td>\n",
       "      <td>0.0000</td>\n",
       "      <td>2.1900</td>\n",
       "      <td>0.0000</td>\n",
       "      <td>0.0000</td>\n",
       "      <td>0.0000</td>\n",
       "      <td>-1.0000</td>\n",
       "      <td>0.0000</td>\n",
       "      <td>0.0000</td>\n",
       "      <td>0.0000</td>\n",
       "      <td>0.0000</td>\n",
       "      <td>0.0000</td>\n",
       "      <td>-1.0</td>\n",
       "      <td>-1.0000</td>\n",
       "      <td>-1.0000</td>\n",
       "      <td>-1.0000</td>\n",
       "      <td>0.0000e+00</td>\n",
       "      <td>0.0000</td>\n",
       "      <td>-1.0000</td>\n",
       "      <td>-1.0000</td>\n",
       "      <td>-1.0000</td>\n",
       "      <td>-1.0000</td>\n",
       "      <td>1.0000</td>\n",
       "      <td>0.0000</td>\n",
       "      <td>0.0000</td>\n",
       "      <td>0.0000</td>\n",
       "      <td>0.0000</td>\n",
       "    </tr>\n",
       "    <tr>\n",
       "      <th>25%</th>\n",
       "      <td>2600.000</td>\n",
       "      <td>8.0000</td>\n",
       "      <td>24.0000</td>\n",
       "      <td>121.7000</td>\n",
       "      <td>0.0000</td>\n",
       "      <td>0.0000</td>\n",
       "      <td>0.0000</td>\n",
       "      <td>-1.0000</td>\n",
       "      <td>0.0000</td>\n",
       "      <td>0.0000</td>\n",
       "      <td>0.0000</td>\n",
       "      <td>0.0000</td>\n",
       "      <td>0.0000</td>\n",
       "      <td>-1.0</td>\n",
       "      <td>-1.0000</td>\n",
       "      <td>-1.0000</td>\n",
       "      <td>-1.0000</td>\n",
       "      <td>6.1925e+02</td>\n",
       "      <td>0.0000</td>\n",
       "      <td>-1.0000</td>\n",
       "      <td>-1.0000</td>\n",
       "      <td>-1.0000</td>\n",
       "      <td>-1.0000</td>\n",
       "      <td>72.0000</td>\n",
       "      <td>0.0000</td>\n",
       "      <td>0.0000</td>\n",
       "      <td>0.0000</td>\n",
       "      <td>0.0000</td>\n",
       "    </tr>\n",
       "    <tr>\n",
       "      <th>50%</th>\n",
       "      <td>3221.000</td>\n",
       "      <td>24.0000</td>\n",
       "      <td>36.0000</td>\n",
       "      <td>140.3950</td>\n",
       "      <td>1.0000</td>\n",
       "      <td>0.0000</td>\n",
       "      <td>0.0000</td>\n",
       "      <td>-1.0000</td>\n",
       "      <td>0.0000</td>\n",
       "      <td>0.0000</td>\n",
       "      <td>1.0000</td>\n",
       "      <td>0.0000</td>\n",
       "      <td>253.0000</td>\n",
       "      <td>-1.0</td>\n",
       "      <td>-1.0000</td>\n",
       "      <td>0.0000</td>\n",
       "      <td>-1.0000</td>\n",
       "      <td>5.6590e+03</td>\n",
       "      <td>70.0000</td>\n",
       "      <td>-1.0000</td>\n",
       "      <td>-1.0000</td>\n",
       "      <td>-1.0000</td>\n",
       "      <td>11.0000</td>\n",
       "      <td>154.0000</td>\n",
       "      <td>0.0000</td>\n",
       "      <td>0.0000</td>\n",
       "      <td>0.0000</td>\n",
       "      <td>0.0000</td>\n",
       "    </tr>\n",
       "    <tr>\n",
       "      <th>75%</th>\n",
       "      <td>4250.000</td>\n",
       "      <td>48.0000</td>\n",
       "      <td>72.0000</td>\n",
       "      <td>166.4100</td>\n",
       "      <td>3.0000</td>\n",
       "      <td>0.0000</td>\n",
       "      <td>0.0000</td>\n",
       "      <td>-1.0000</td>\n",
       "      <td>0.0000</td>\n",
       "      <td>0.0000</td>\n",
       "      <td>1.0000</td>\n",
       "      <td>0.0000</td>\n",
       "      <td>2570.7500</td>\n",
       "      <td>-1.0</td>\n",
       "      <td>-1.0000</td>\n",
       "      <td>0.0000</td>\n",
       "      <td>-1.0000</td>\n",
       "      <td>1.8083e+04</td>\n",
       "      <td>460.0000</td>\n",
       "      <td>-1.0000</td>\n",
       "      <td>-1.0000</td>\n",
       "      <td>-1.0000</td>\n",
       "      <td>30.0000</td>\n",
       "      <td>255.0000</td>\n",
       "      <td>0.0000</td>\n",
       "      <td>0.0000</td>\n",
       "      <td>0.0000</td>\n",
       "      <td>0.0000</td>\n",
       "    </tr>\n",
       "    <tr>\n",
       "      <th>max</th>\n",
       "      <td>480000.000</td>\n",
       "      <td>720.0000</td>\n",
       "      <td>756.0000</td>\n",
       "      <td>10433.6000</td>\n",
       "      <td>42.0000</td>\n",
       "      <td>5.0000</td>\n",
       "      <td>19.0000</td>\n",
       "      <td>36.0000</td>\n",
       "      <td>8.0000</td>\n",
       "      <td>2.0000</td>\n",
       "      <td>2.0000</td>\n",
       "      <td>1.0000</td>\n",
       "      <td>133381.0000</td>\n",
       "      <td>-1.0</td>\n",
       "      <td>0.0000</td>\n",
       "      <td>116351.0000</td>\n",
       "      <td>25708.0000</td>\n",
       "      <td>2.8717e+06</td>\n",
       "      <td>12518.0000</td>\n",
       "      <td>112.0000</td>\n",
       "      <td>140.0000</td>\n",
       "      <td>90.0000</td>\n",
       "      <td>136.0000</td>\n",
       "      <td>910.0000</td>\n",
       "      <td>11.0000</td>\n",
       "      <td>10.0000</td>\n",
       "      <td>14.0000</td>\n",
       "      <td>29.0000</td>\n",
       "    </tr>\n",
       "  </tbody>\n",
       "</table>\n",
       "</div>"
      ],
      "text/plain": [
       "       monthly_income  job_time_months  res_time_months  ltv_wholesale_clean  credit_chargeoffs  credit_child_supports  credit_wage_earners  credit_bankruptcies  credit_repos  credit_foreclosures  credit_collections  credit_line_suspended  credit_past_due  credit_past_due_bankruptcy  credit_past_due_medical  credit_past_due_auto  credit_past_due_mortgage  credit_current_balance  credit_monthly_payment  credit_months_since_repo  credit_months_since_bankruptcy  credit_months_since_foreclosure  credit_months_since_chargeoff  credit_age_months  credit_dpd_30  credit_dpd_60  credit_dpd_90  credit_dpd_120\n",
       "count       45266.000       45266.0000       45266.0000           45266.0000         45266.0000             45266.0000           45266.0000           45266.0000    45266.0000           45266.0000          45266.0000             45266.0000       45266.0000                     45266.0               45266.0000            45266.0000                45266.0000              4.5266e+04              45266.0000                45266.0000                      45266.0000                       45266.0000                     45266.0000         45266.0000     45266.0000     45266.0000     45266.0000      45266.0000\n",
       "mean         3897.950          40.7921          62.1653             154.2562             2.0877                 0.0196               0.0146              -0.7835        0.1542               0.0011              0.7532                 0.0077        2314.9076                        -1.0                  -1.0000             1289.9912                   17.5875              1.9511e+04                328.8756                    1.9545                          2.3619                          -0.9610                        18.7085           174.4553         0.1420         0.1086         0.0702          0.2241\n",
       "std          4269.084          55.6832          75.5894             141.6794             3.0119                 0.1588               0.2885               1.1725        0.5655               0.0352              0.6760                 0.0872        4376.9261                         0.0                   0.0066             3497.3278                  345.0245              4.7919e+04                607.1431                   12.7303                         15.9758                           1.4442                        24.2192           122.3935         0.4497         0.3835         0.3313          0.9440\n",
       "min             0.000           0.0000           0.0000               2.1900             0.0000                 0.0000               0.0000              -1.0000        0.0000               0.0000              0.0000                 0.0000           0.0000                        -1.0                  -1.0000               -1.0000                   -1.0000              0.0000e+00                  0.0000                   -1.0000                         -1.0000                          -1.0000                        -1.0000             1.0000         0.0000         0.0000         0.0000          0.0000\n",
       "25%          2600.000           8.0000          24.0000             121.7000             0.0000                 0.0000               0.0000              -1.0000        0.0000               0.0000              0.0000                 0.0000           0.0000                        -1.0                  -1.0000               -1.0000                   -1.0000              6.1925e+02                  0.0000                   -1.0000                         -1.0000                          -1.0000                        -1.0000            72.0000         0.0000         0.0000         0.0000          0.0000\n",
       "50%          3221.000          24.0000          36.0000             140.3950             1.0000                 0.0000               0.0000              -1.0000        0.0000               0.0000              1.0000                 0.0000         253.0000                        -1.0                  -1.0000                0.0000                   -1.0000              5.6590e+03                 70.0000                   -1.0000                         -1.0000                          -1.0000                        11.0000           154.0000         0.0000         0.0000         0.0000          0.0000\n",
       "75%          4250.000          48.0000          72.0000             166.4100             3.0000                 0.0000               0.0000              -1.0000        0.0000               0.0000              1.0000                 0.0000        2570.7500                        -1.0                  -1.0000                0.0000                   -1.0000              1.8083e+04                460.0000                   -1.0000                         -1.0000                          -1.0000                        30.0000           255.0000         0.0000         0.0000         0.0000          0.0000\n",
       "max        480000.000         720.0000         756.0000           10433.6000            42.0000                 5.0000              19.0000              36.0000        8.0000               2.0000              2.0000                 1.0000      133381.0000                        -1.0                   0.0000           116351.0000                25708.0000              2.8717e+06              12518.0000                  112.0000                        140.0000                          90.0000                       136.0000           910.0000        11.0000        10.0000        14.0000         29.0000"
      ]
     },
     "execution_count": 9,
     "metadata": {},
     "output_type": "execute_result"
    }
   ],
   "source": [
    "df.describe()"
   ]
  },
  {
   "cell_type": "code",
   "execution_count": null,
   "metadata": {},
   "outputs": [],
   "source": []
  },
  {
   "cell_type": "markdown",
   "metadata": {},
   "source": [
    "### Remove outliers\n",
    "Monthly Income has a some very high outliers. We will remove them."
   ]
  },
  {
   "cell_type": "code",
   "execution_count": 5,
   "metadata": {},
   "outputs": [],
   "source": [
    "iqr = df['monthly_income'].quantile(0.75) - df['monthly_income'].quantile(0.25)\n",
    "upper_bound = df['monthly_income'].quantile(0.75) + 1.5 * iqr\n",
    "df = df[(df['monthly_income'] < upper_bound)]"
   ]
  },
  {
   "cell_type": "markdown",
   "metadata": {},
   "source": [
    "### Status Distribution\n",
    "Check the distribution of the statuses. To see if classes are balanced."
   ]
  },
  {
   "cell_type": "code",
   "execution_count": 11,
   "metadata": {},
   "outputs": [
    {
     "data": {
      "text/plain": [
       "status\n",
       "Denial      25476\n",
       "Approved    16867\n",
       "Name: count, dtype: int64"
      ]
     },
     "execution_count": 11,
     "metadata": {},
     "output_type": "execute_result"
    }
   ],
   "source": [
    "df['status'].value_counts()"
   ]
  },
  {
   "cell_type": "markdown",
   "metadata": {},
   "source": [
    "### Drop columns\n",
    "We will drop the status and app_id columns as they are not features.\n",
    "drop_cols = ['status', 'app_id']"
   ]
  },
  {
   "cell_type": "code",
   "execution_count": 6,
   "metadata": {},
   "outputs": [],
   "source": [
    "drop_cols = ['status', 'app_id']"
   ]
  },
  {
   "cell_type": "code",
   "execution_count": 7,
   "metadata": {},
   "outputs": [],
   "source": [
    "x = df.drop(columns=drop_cols)\n",
    "y = df['status']\n",
    "y_enc = np.where(y == 'Approved', 1, 0)\n",
    "x_train, x_test, y_train, y_test = train_test_split(x, y_enc, test_size=0.3, random_state=42, stratify=y_enc)"
   ]
  },
  {
   "cell_type": "markdown",
   "metadata": {},
   "source": [
    "# Ensemble Systems\n",
    "#### Bagging\n",
    "- below checks recall between bagging, pasting, random subspaces, and random patches"
   ]
  },
  {
   "cell_type": "code",
   "execution_count": 1,
   "metadata": {},
   "outputs": [],
   "source": [
    "dmap_ens = {}"
   ]
  },
  {
   "cell_type": "code",
   "execution_count": null,
   "metadata": {},
   "outputs": [],
   "source": [
    "import multiprocessing\n",
    "\n",
    "def get_optimal_workers() -> int:\n",
    "    return multiprocessing.cpu_count() - 4\n"
   ]
  },
  {
   "cell_type": "code",
   "execution_count": 15,
   "metadata": {},
   "outputs": [
    {
     "data": {
      "text/plain": [
       "<sklearn.metrics._plot.confusion_matrix.ConfusionMatrixDisplay at 0x34809df40>"
      ]
     },
     "execution_count": 15,
     "metadata": {},
     "output_type": "execute_result"
    },
    {
     "data": {
      "image/png": "[encoded data removed]",
      "text/plain": [
       "<Figure size 640x480 with 2 Axes>"
      ]
     },
     "metadata": {},
     "output_type": "display_data"
    }
   ],
   "source": [
    "pipe_bag = Pipeline([\n",
    "    ('scaler', StandardScaler()),\n",
    "    ('model', BaggingClassifier(random_state=random_state))\n",
    "])\n",
    "\n",
    "grid_bag = GridSearchCV(\n",
    "    pipe_bag,\n",
    "    {\n",
    "        'model__n_estimators': range(10, 100, 10),\n",
    "        'model__max_samples': [0.3, 0.5, 0.75],\n",
    "        'model__max_features': [0.3, 0.5, 0.75],\n",
    "        'model__bootstrap': [True, False],\n",
    "    },\n",
    "    cv=5,\n",
    "    n_jobs=get_optimal_workers(),\n",
    "    scoring='recall'\n",
    ")\n",
    "grid_bag.fit(x_train, y_train)\n",
    "\n",
    "dmap_ens['bagging'] = {\n",
    "    'test_score': grid_bag.score(x_test, y_test),\n",
    "    'model': 'Bagging',\n",
    "    'recall_score': recall_score(y_test, grid_bag.predict(x_test), average='weighted'),\n",
    "    'precision_score': precision_score(y_test, grid_bag.predict(x_test), average='weighted'),\n",
    "    'accuracy_score': accuracy_score(y_test, grid_bag.predict(x_test)),\n",
    "    'f1_score': f1_score(y_test, grid_bag.predict(x_test), average='weighted'),\n",
    "}\n",
    "\n",
    "ConfusionMatrixDisplay.from_estimator(grid_bag.best_estimator_, x_test, y_test, display_labels=['Approved', 'Denial'])"
   ]
  },
  {
   "cell_type": "markdown",
   "metadata": {},
   "source": [
    "#### Random Forest"
   ]
  },
  {
   "cell_type": "code",
   "execution_count": 22,
   "metadata": {},
   "outputs": [
    {
     "data": {
      "text/plain": [
       "<sklearn.metrics._plot.confusion_matrix.ConfusionMatrixDisplay at 0x16fc7a1e0>"
      ]
     },
     "execution_count": 22,
     "metadata": {},
     "output_type": "execute_result"
    },
    {
     "data": {
      "image/png": "[encoded data removed]",
      "text/plain": [
       "<Figure size 640x480 with 2 Axes>"
      ]
     },
     "metadata": {},
     "output_type": "display_data"
    }
   ],
   "source": [
    "pipe_rf = Pipeline([\n",
    "    ('scaler', StandardScaler()),\n",
    "    ('model', RandomForestClassifier(random_state=random_state))\n",
    "])\n",
    "\n",
    "grid_rf = GridSearchCV(\n",
    "    pipe_rf,\n",
    "    {\n",
    "        'model__n_estimators': range(50, 500, 50),\n",
    "        'model__oob_score': [True, False],\n",
    "        'model__max_depth': range(1, 30, 5),\n",
    "    },\n",
    "    cv=5,\n",
    "    n_jobs=get_optimal_workers(),\n",
    "    scoring='recall'\n",
    ")\n",
    "grid_rf.fit(x_train, y_train)\n",
    "\n",
    "dmap_ens['random_forest'] = {\n",
    "    'test_score': grid_rf.score(x_test, y_test),\n",
    "    'model': 'Random Forest',\n",
    "    'recall_score': recall_score(y_test, grid_rf.predict(x_test), average='weighted'),\n",
    "    'precision_score': precision_score(y_test, grid_rf.predict(x_test), average='weighted'),\n",
    "    'accuracy_score': accuracy_score(y_test, grid_rf.predict(x_test)),\n",
    "    'f1_score': f1_score(y_test, grid_rf.predict(x_test), average='weighted'),\n",
    "}\n",
    "\n",
    "ConfusionMatrixDisplay.from_estimator(grid_rf.best_estimator_, x_test, y_test, display_labels=['Approved', 'Denial'])"
   ]
  },
  {
   "cell_type": "markdown",
   "metadata": {},
   "source": [
    "#### AdaBoost"
   ]
  },
  {
   "cell_type": "code",
   "execution_count": 25,
   "metadata": {},
   "outputs": [
    {
     "data": {
      "text/plain": [
       "<sklearn.metrics._plot.confusion_matrix.ConfusionMatrixDisplay at 0x3480eaf00>"
      ]
     },
     "execution_count": 25,
     "metadata": {},
     "output_type": "execute_result"
    },
    {
     "data": {
      "image/png": "[encoded data removed]",
      "text/plain": [
       "<Figure size 640x480 with 2 Axes>"
      ]
     },
     "metadata": {},
     "output_type": "display_data"
    }
   ],
   "source": [
    "pipe_ada = Pipeline([\n",
    "    ('scaler', StandardScaler()),\n",
    "    ('model', AdaBoostClassifier(DecisionTreeClassifier(random_state=random_state), random_state=random_state, algorithm='SAMME'))\n",
    "])\n",
    "\n",
    "grid_ada = GridSearchCV(\n",
    "    pipe_ada,\n",
    "    {\n",
    "        'model__n_estimators': range(50, 500, 50),\n",
    "        'model__estimator__max_depth': [1, 2, 3],\n",
    "    },\n",
    "    cv=5,\n",
    "    n_jobs=get_optimal_workers(),\n",
    "    scoring='recall'\n",
    ")\n",
    "grid_ada.fit(x_train, y_train)\n",
    "\n",
    "dmap_ens['ada_boost'] = {\n",
    "    'test_score': grid_ada.score(x_test, y_test),\n",
    "    'model': 'AdaBoost',\n",
    "    'recall_score': recall_score(y_test, grid_ada.predict(x_test), average='weighted'),\n",
    "    'precision_score': precision_score(y_test, grid_ada.predict(x_test), average='weighted'),\n",
    "    'accuracy_score': accuracy_score(y_test, grid_ada.predict(x_test)),\n",
    "    'f1_score': f1_score(y_test, grid_ada.predict(x_test), average='weighted'),\n",
    "}\n",
    "\n",
    "ConfusionMatrixDisplay.from_estimator(grid_ada.best_estimator_, x_test, y_test, display_labels=['Approved', 'Denial'])"
   ]
  },
  {
   "cell_type": "markdown",
   "metadata": {},
   "source": [
    "#### Voting"
   ]
  },
  {
   "cell_type": "code",
   "execution_count": 26,
   "metadata": {},
   "outputs": [
    {
     "data": {
      "text/plain": [
       "<sklearn.metrics._plot.confusion_matrix.ConfusionMatrixDisplay at 0x34a593e60>"
      ]
     },
     "execution_count": 26,
     "metadata": {},
     "output_type": "execute_result"
    },
    {
     "data": {
      "image/png": "[encoded data removed]",
      "text/plain": [
       "<Figure size 640x480 with 2 Axes>"
      ]
     },
     "metadata": {},
     "output_type": "display_data"
    }
   ],
   "source": [
    "from sklearn.svm import SVC\n",
    "\n",
    "pipe_vc = Pipeline([\n",
    "    ('scaler', StandardScaler()),\n",
    "    ('model', VotingClassifier([\n",
    "        ('svc', SVC(probability=True)),\n",
    "        ('lgr', LogisticRegression()),\n",
    "        ('knn', KNeighborsClassifier()),\n",
    "    ]))\n",
    "])\n",
    "\n",
    "grid_vc = GridSearchCV(\n",
    "    pipe_vc,\n",
    "    {\n",
    "        'model__voting': ['hard', 'soft'],\n",
    "    },\n",
    "    cv=5,\n",
    "    n_jobs=get_optimal_workers(),\n",
    "    scoring='recall'\n",
    ")\n",
    "grid_vc.fit(x_train, y_train)\n",
    "\n",
    "dmap_ens['voting'] = {\n",
    "    'test_score': grid_vc.score(x_test, y_test),\n",
    "    'model': 'Voting',\n",
    "    'recall_score': recall_score(y_test, grid_vc.predict(x_test), average='weighted'),\n",
    "    'precision_score': precision_score(y_test, grid_vc.predict(x_test), average='weighted'),\n",
    "    'accuracy_score': accuracy_score(y_test, grid_vc.predict(x_test)),\n",
    "    'f1_score': f1_score(y_test, grid_vc.predict(x_test), average='weighted'),\n",
    "}\n",
    "\n",
    "ConfusionMatrixDisplay.from_estimator(grid_vc.best_estimator_, x_test, y_test, display_labels=['Approved', 'Denial'])"
   ]
  },
  {
   "cell_type": "markdown",
   "metadata": {},
   "source": [
    "#### Gradient Boosting"
   ]
  },
  {
   "cell_type": "code",
   "execution_count": 24,
   "metadata": {},
   "outputs": [
    {
     "data": {
      "text/plain": [
       "<sklearn.metrics._plot.confusion_matrix.ConfusionMatrixDisplay at 0x34a586ed0>"
      ]
     },
     "execution_count": 24,
     "metadata": {},
     "output_type": "execute_result"
    },
    {
     "data": {
      "image/png": "[encoded data removed]",
      "text/plain": [
       "<Figure size 640x480 with 2 Axes>"
      ]
     },
     "metadata": {},
     "output_type": "display_data"
    }
   ],
   "source": [
    "pipe_gb = Pipeline([\n",
    "    ('scaler', StandardScaler()),\n",
    "    ('model', GradientBoostingClassifier(random_state=random_state))\n",
    "])\n",
    "\n",
    "grid_gb = GridSearchCV(\n",
    "    pipe_gb,\n",
    "    {\n",
    "        'model__n_estimators': range(50, 500, 50),\n",
    "        'model__max_depth': [1, 2, 3, 5, 10, 20],\n",
    "    },\n",
    "    cv=5,\n",
    "    n_jobs=get_optimal_workers(),\n",
    "    scoring='recall'\n",
    ")\n",
    "grid_gb.fit(x_train, y_train)\n",
    "\n",
    "dmap_ens['gradient_boosting'] = {\n",
    "    'test_score': grid_gb.score(x_test, y_test),\n",
    "    'model': 'Gradient Boosting',\n",
    "    'recall_score': recall_score(y_test, grid_gb.predict(x_test), average='weighted'),\n",
    "    'precision_score': precision_score(y_test, grid_gb.predict(x_test), average='weighted'),\n",
    "    'accuracy_score': accuracy_score(y_test, grid_gb.predict(x_test)),\n",
    "    'f1_score': f1_score(y_test, grid_gb.predict(x_test), average='weighted'),\n",
    "}\n",
    "\n",
    "ConfusionMatrixDisplay.from_estimator(grid_gb.best_estimator_, x_test, y_test, display_labels=['Approved', 'Denial'])"
   ]
  },
  {
   "cell_type": "code",
   "execution_count": 27,
   "metadata": {},
   "outputs": [
    {
     "data": {
      "text/html": [
       "<div>\n",
       "<style scoped>\n",
       "    .dataframe tbody tr th:only-of-type {\n",
       "        vertical-align: middle;\n",
       "    }\n",
       "\n",
       "    .dataframe tbody tr th {\n",
       "        vertical-align: top;\n",
       "    }\n",
       "\n",
       "    .dataframe thead th {\n",
       "        text-align: right;\n",
       "    }\n",
       "</style>\n",
       "<table border=\"1\" class=\"dataframe\">\n",
       "  <thead>\n",
       "    <tr style=\"text-align: right;\">\n",
       "      <th></th>\n",
       "      <th>test_score</th>\n",
       "      <th>model</th>\n",
       "      <th>recall_score</th>\n",
       "      <th>precision_score</th>\n",
       "      <th>accuracy_score</th>\n",
       "      <th>f1_score</th>\n",
       "    </tr>\n",
       "  </thead>\n",
       "  <tbody>\n",
       "    <tr>\n",
       "      <th>1</th>\n",
       "      <td>0.7393</td>\n",
       "      <td>Random Forest</td>\n",
       "      <td>0.8050</td>\n",
       "      <td>0.8042</td>\n",
       "      <td>0.8050</td>\n",
       "      <td>0.8044</td>\n",
       "    </tr>\n",
       "    <tr>\n",
       "      <th>0</th>\n",
       "      <td>0.7227</td>\n",
       "      <td>Bagging</td>\n",
       "      <td>0.7982</td>\n",
       "      <td>0.7970</td>\n",
       "      <td>0.7982</td>\n",
       "      <td>0.7973</td>\n",
       "    </tr>\n",
       "    <tr>\n",
       "      <th>3</th>\n",
       "      <td>0.7662</td>\n",
       "      <td>Gradient Boosting</td>\n",
       "      <td>0.7839</td>\n",
       "      <td>0.7876</td>\n",
       "      <td>0.7839</td>\n",
       "      <td>0.7851</td>\n",
       "    </tr>\n",
       "    <tr>\n",
       "      <th>4</th>\n",
       "      <td>0.7502</td>\n",
       "      <td>Voting</td>\n",
       "      <td>0.7798</td>\n",
       "      <td>0.7823</td>\n",
       "      <td>0.7798</td>\n",
       "      <td>0.7807</td>\n",
       "    </tr>\n",
       "    <tr>\n",
       "      <th>2</th>\n",
       "      <td>0.7630</td>\n",
       "      <td>AdaBoost</td>\n",
       "      <td>0.7752</td>\n",
       "      <td>0.7800</td>\n",
       "      <td>0.7752</td>\n",
       "      <td>0.7766</td>\n",
       "    </tr>\n",
       "  </tbody>\n",
       "</table>\n",
       "</div>"
      ],
      "text/plain": [
       "   test_score              model  recall_score  precision_score  accuracy_score  f1_score\n",
       "1      0.7393      Random Forest        0.8050           0.8042          0.8050    0.8044\n",
       "0      0.7227            Bagging        0.7982           0.7970          0.7982    0.7973\n",
       "3      0.7662  Gradient Boosting        0.7839           0.7876          0.7839    0.7851\n",
       "4      0.7502             Voting        0.7798           0.7823          0.7798    0.7807\n",
       "2      0.7630           AdaBoost        0.7752           0.7800          0.7752    0.7766"
      ]
     },
     "execution_count": 27,
     "metadata": {},
     "output_type": "execute_result"
    }
   ],
   "source": [
    "df_ens_results = pd.DataFrame(dmap_ens.values())\n",
    "df_ens_results.sort_values(by='recall_score', ascending=False)\n"
   ]
  }
 ],
 "metadata": {
  "language_info": {
   "name": "python"
  }
 },
 "nbformat": 4,
 "nbformat_minor": 2
}
